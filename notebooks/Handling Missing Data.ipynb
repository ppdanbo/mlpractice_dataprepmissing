{
 "cells": [
  {
   "cell_type": "markdown",
   "metadata": {},
   "source": [
    "# Lab: Handling Missing Data\n",
    "What do you do when ther are unknown or missing values in your data?\n",
    "\n",
    "This lab will walk you through a number of ways to handle missing data including using a default value and building a model to predict the missing data based on other variables that are present in the data set."
   ]
  },
  {
   "cell_type": "markdown",
   "metadata": {},
   "source": [
    "## Section 1: Import Dataset\n",
    "This lab uses data from the [Give Me Some Credit](https://www.kaggle.com/c/GiveMeSomeCredit/) competition on [Kaggle](https://www.kaggle.com/).  \n",
    "\n",
    "This dataset contains the following columns according to the [data dictionary](https://www.kaggle.com/c/GiveMeSomeCredit/data?select=Data+Dictionary.xls):\n",
    "* <b>SeriousDlqin2yrs</b>: Person experienced 90 days past due delinquency or worse \n",
    "* <b>RevolvingUtilizationOfUnsecuredLines</b>: Total balance on credit cards and personal lines of credit except real estate and no installment debt like car loans divided by the sum of credit limits\n",
    "* <b>age</b>: Age of borrower in years\n",
    "* <b>NumberOfTime30-59DaysPastDueNotWorse</b>: Number of times borrower has been 30-59 days past due but no worse in the last 2 years.\n",
    "* <b>DebtRatio</b>: Monthly debt payments, alimony,living costs divided by monthy gross income\n",
    "* <b>MonthlyIncome</b>: Monthly income\n",
    "* <b>NumberOfOpenCreditLinesAndLoans</b>: Number of Open loans (installment like car loan or mortgage) and Lines of credit (e.g. credit cards)\n",
    "* <b>NumberOfTimes90DaysLate</b>: Number of times borrower has been 90 days or more past due.\n",
    "* <b>NumberRealEstateLoansOrLines</b>:\tNumber of mortgage and real estate loans including home equity lines of credit\n",
    "* <b>NumberOfTime60-89DaysPastDueNotWorse</b>:\tNumber of times borrower has been 60-89 days past due but no worse in the last 2 years.\n",
    "* <b>NumberOfDependents</b>: Number of dependents in family excluding themselves (spouse, children etc.)"
   ]
  },
  {
   "cell_type": "markdown",
   "metadata": {},
   "source": [
    "In this lab, you will use the [pandas](https://pandas.pydata.org/) library in python to import, analyze and manipulate the dataset."
   ]
  },
  {
   "cell_type": "code",
   "execution_count": 3,
   "metadata": {},
   "outputs": [
    {
     "data": {
      "text/html": [
       "<div>\n",
       "<style scoped>\n",
       "    .dataframe tbody tr th:only-of-type {\n",
       "        vertical-align: middle;\n",
       "    }\n",
       "\n",
       "    .dataframe tbody tr th {\n",
       "        vertical-align: top;\n",
       "    }\n",
       "\n",
       "    .dataframe thead th {\n",
       "        text-align: right;\n",
       "    }\n",
       "</style>\n",
       "<table border=\"1\" class=\"dataframe\">\n",
       "  <thead>\n",
       "    <tr style=\"text-align: right;\">\n",
       "      <th></th>\n",
       "      <th>SeriousDlqin2yrs</th>\n",
       "      <th>RevolvingUtilizationOfUnsecuredLines</th>\n",
       "      <th>age</th>\n",
       "      <th>NumberOfTime30-59DaysPastDueNotWorse</th>\n",
       "      <th>DebtRatio</th>\n",
       "      <th>MonthlyIncome</th>\n",
       "      <th>NumberOfOpenCreditLinesAndLoans</th>\n",
       "      <th>NumberOfTimes90DaysLate</th>\n",
       "      <th>NumberRealEstateLoansOrLines</th>\n",
       "      <th>NumberOfTime60-89DaysPastDueNotWorse</th>\n",
       "      <th>NumberOfDependents</th>\n",
       "    </tr>\n",
       "  </thead>\n",
       "  <tbody>\n",
       "    <tr>\n",
       "      <th>0</th>\n",
       "      <td>1</td>\n",
       "      <td>0.766127</td>\n",
       "      <td>45</td>\n",
       "      <td>2</td>\n",
       "      <td>0.802982</td>\n",
       "      <td>9120.0</td>\n",
       "      <td>13</td>\n",
       "      <td>0</td>\n",
       "      <td>6</td>\n",
       "      <td>0</td>\n",
       "      <td>2.0</td>\n",
       "    </tr>\n",
       "    <tr>\n",
       "      <th>1</th>\n",
       "      <td>0</td>\n",
       "      <td>0.957151</td>\n",
       "      <td>40</td>\n",
       "      <td>0</td>\n",
       "      <td>0.121876</td>\n",
       "      <td>2600.0</td>\n",
       "      <td>4</td>\n",
       "      <td>0</td>\n",
       "      <td>0</td>\n",
       "      <td>0</td>\n",
       "      <td>1.0</td>\n",
       "    </tr>\n",
       "    <tr>\n",
       "      <th>2</th>\n",
       "      <td>0</td>\n",
       "      <td>0.658180</td>\n",
       "      <td>38</td>\n",
       "      <td>1</td>\n",
       "      <td>0.085113</td>\n",
       "      <td>3042.0</td>\n",
       "      <td>2</td>\n",
       "      <td>1</td>\n",
       "      <td>0</td>\n",
       "      <td>0</td>\n",
       "      <td>0.0</td>\n",
       "    </tr>\n",
       "    <tr>\n",
       "      <th>3</th>\n",
       "      <td>0</td>\n",
       "      <td>0.233810</td>\n",
       "      <td>30</td>\n",
       "      <td>0</td>\n",
       "      <td>0.036050</td>\n",
       "      <td>3300.0</td>\n",
       "      <td>5</td>\n",
       "      <td>0</td>\n",
       "      <td>0</td>\n",
       "      <td>0</td>\n",
       "      <td>0.0</td>\n",
       "    </tr>\n",
       "    <tr>\n",
       "      <th>4</th>\n",
       "      <td>0</td>\n",
       "      <td>0.907239</td>\n",
       "      <td>49</td>\n",
       "      <td>1</td>\n",
       "      <td>0.024926</td>\n",
       "      <td>63588.0</td>\n",
       "      <td>7</td>\n",
       "      <td>0</td>\n",
       "      <td>1</td>\n",
       "      <td>0</td>\n",
       "      <td>0.0</td>\n",
       "    </tr>\n",
       "    <tr>\n",
       "      <th>5</th>\n",
       "      <td>0</td>\n",
       "      <td>0.213179</td>\n",
       "      <td>74</td>\n",
       "      <td>0</td>\n",
       "      <td>0.375607</td>\n",
       "      <td>3500.0</td>\n",
       "      <td>3</td>\n",
       "      <td>0</td>\n",
       "      <td>1</td>\n",
       "      <td>0</td>\n",
       "      <td>1.0</td>\n",
       "    </tr>\n",
       "    <tr>\n",
       "      <th>6</th>\n",
       "      <td>0</td>\n",
       "      <td>0.305682</td>\n",
       "      <td>57</td>\n",
       "      <td>0</td>\n",
       "      <td>5710.000000</td>\n",
       "      <td>NaN</td>\n",
       "      <td>8</td>\n",
       "      <td>0</td>\n",
       "      <td>3</td>\n",
       "      <td>0</td>\n",
       "      <td>0.0</td>\n",
       "    </tr>\n",
       "    <tr>\n",
       "      <th>7</th>\n",
       "      <td>0</td>\n",
       "      <td>0.754464</td>\n",
       "      <td>39</td>\n",
       "      <td>0</td>\n",
       "      <td>0.209940</td>\n",
       "      <td>3500.0</td>\n",
       "      <td>8</td>\n",
       "      <td>0</td>\n",
       "      <td>0</td>\n",
       "      <td>0</td>\n",
       "      <td>0.0</td>\n",
       "    </tr>\n",
       "    <tr>\n",
       "      <th>8</th>\n",
       "      <td>0</td>\n",
       "      <td>0.116951</td>\n",
       "      <td>27</td>\n",
       "      <td>0</td>\n",
       "      <td>46.000000</td>\n",
       "      <td>NaN</td>\n",
       "      <td>2</td>\n",
       "      <td>0</td>\n",
       "      <td>0</td>\n",
       "      <td>0</td>\n",
       "      <td>NaN</td>\n",
       "    </tr>\n",
       "    <tr>\n",
       "      <th>9</th>\n",
       "      <td>0</td>\n",
       "      <td>0.189169</td>\n",
       "      <td>57</td>\n",
       "      <td>0</td>\n",
       "      <td>0.606291</td>\n",
       "      <td>23684.0</td>\n",
       "      <td>9</td>\n",
       "      <td>0</td>\n",
       "      <td>4</td>\n",
       "      <td>0</td>\n",
       "      <td>2.0</td>\n",
       "    </tr>\n",
       "  </tbody>\n",
       "</table>\n",
       "</div>"
      ],
      "text/plain": [
       "   SeriousDlqin2yrs  RevolvingUtilizationOfUnsecuredLines  age  \\\n",
       "0                 1                              0.766127   45   \n",
       "1                 0                              0.957151   40   \n",
       "2                 0                              0.658180   38   \n",
       "3                 0                              0.233810   30   \n",
       "4                 0                              0.907239   49   \n",
       "5                 0                              0.213179   74   \n",
       "6                 0                              0.305682   57   \n",
       "7                 0                              0.754464   39   \n",
       "8                 0                              0.116951   27   \n",
       "9                 0                              0.189169   57   \n",
       "\n",
       "   NumberOfTime30-59DaysPastDueNotWorse    DebtRatio  MonthlyIncome  \\\n",
       "0                                     2     0.802982         9120.0   \n",
       "1                                     0     0.121876         2600.0   \n",
       "2                                     1     0.085113         3042.0   \n",
       "3                                     0     0.036050         3300.0   \n",
       "4                                     1     0.024926        63588.0   \n",
       "5                                     0     0.375607         3500.0   \n",
       "6                                     0  5710.000000            NaN   \n",
       "7                                     0     0.209940         3500.0   \n",
       "8                                     0    46.000000            NaN   \n",
       "9                                     0     0.606291        23684.0   \n",
       "\n",
       "   NumberOfOpenCreditLinesAndLoans  NumberOfTimes90DaysLate  \\\n",
       "0                               13                        0   \n",
       "1                                4                        0   \n",
       "2                                2                        1   \n",
       "3                                5                        0   \n",
       "4                                7                        0   \n",
       "5                                3                        0   \n",
       "6                                8                        0   \n",
       "7                                8                        0   \n",
       "8                                2                        0   \n",
       "9                                9                        0   \n",
       "\n",
       "   NumberRealEstateLoansOrLines  NumberOfTime60-89DaysPastDueNotWorse  \\\n",
       "0                             6                                     0   \n",
       "1                             0                                     0   \n",
       "2                             0                                     0   \n",
       "3                             0                                     0   \n",
       "4                             1                                     0   \n",
       "5                             1                                     0   \n",
       "6                             3                                     0   \n",
       "7                             0                                     0   \n",
       "8                             0                                     0   \n",
       "9                             4                                     0   \n",
       "\n",
       "   NumberOfDependents  \n",
       "0                 2.0  \n",
       "1                 1.0  \n",
       "2                 0.0  \n",
       "3                 0.0  \n",
       "4                 0.0  \n",
       "5                 1.0  \n",
       "6                 0.0  \n",
       "7                 0.0  \n",
       "8                 NaN  \n",
       "9                 2.0  "
      ]
     },
     "execution_count": 3,
     "metadata": {},
     "output_type": "execute_result"
    }
   ],
   "source": [
    "#Import pandas package\n",
    "import pandas as pd\n",
    "\n",
    "#Import dataset\n",
    "credit_data = pd.read_csv('../data/missing_data/credit_score.csv')\n",
    "\n",
    "#Show first 10 rows of data\n",
    "credit_data.head(10)"
   ]
  },
  {
   "cell_type": "markdown",
   "metadata": {},
   "source": [
    "## Section 2: Check for Missing Data\n",
    "You can now check for missing data within the columns of your *pandas* dataframe.\n",
    "\n",
    "The [isna](https://pandas.pydata.org/docs/reference/api/pandas.DataFrame.isna.html?highlight=isna#pandas.DataFrame.isna) function returns a value of True if that data is NA or NaN (i.e., missing) and False otherwise.  \n",
    "\n",
    "Using the *sum* function allows you to add up all the True values for each column."
   ]
  },
  {
   "cell_type": "code",
   "execution_count": 4,
   "metadata": {},
   "outputs": [
    {
     "data": {
      "text/plain": [
       "SeriousDlqin2yrs                            0\n",
       "RevolvingUtilizationOfUnsecuredLines        0\n",
       "age                                         0\n",
       "NumberOfTime30-59DaysPastDueNotWorse        0\n",
       "DebtRatio                                   0\n",
       "MonthlyIncome                           29731\n",
       "NumberOfOpenCreditLinesAndLoans             0\n",
       "NumberOfTimes90DaysLate                     0\n",
       "NumberRealEstateLoansOrLines                0\n",
       "NumberOfTime60-89DaysPastDueNotWorse        0\n",
       "NumberOfDependents                       3924\n",
       "dtype: int64"
      ]
     },
     "execution_count": 4,
     "metadata": {},
     "output_type": "execute_result"
    }
   ],
   "source": [
    "#Count the missing values for each column in the dataframe\n",
    "credit_data.isna().sum()"
   ]
  },
  {
   "cell_type": "markdown",
   "metadata": {},
   "source": [
    "As you can see, there is missing data in two columns: **MonthlyIncome** and **NumberOfDependents**.  \n",
    "\n",
    "To determine the scope of issue, you can calculate the percentage of missing values with respect to the size of the total dataset."
   ]
  },
  {
   "cell_type": "code",
   "execution_count": 5,
   "metadata": {},
   "outputs": [
    {
     "name": "stdout",
     "output_type": "stream",
     "text": [
      "There are 150,000 total records in the dataset.\n",
      "There are 29,731 missing MonthlyIncome values.\n",
      "There are 19.82% of the total records have missing values for MonthlyIncome.\n"
     ]
    }
   ],
   "source": [
    "#Determine percentage of missing data for MonthlyIncome column\n",
    "\n",
    "#Count the total number of records in the dataset\n",
    "total_rows = credit_data.shape[0]\n",
    "\n",
    "#Count the number of missing records\n",
    "missing = credit_data['MonthlyIncome'].isna().sum()\n",
    "\n",
    "#Calculate the percentage\n",
    "percent_missing = missing / total_rows\n",
    "\n",
    "print('There are {:,} total records in the dataset.'.format(total_rows))\n",
    "print('There are {:,} missing MonthlyIncome values.'.format(missing))\n",
    "print('There are {:.2%} of the total records have missing values for MonthlyIncome.'.format(percent_missing))"
   ]
  },
  {
   "cell_type": "markdown",
   "metadata": {},
   "source": [
    "Now you can calculate the number of missing records and the percentage of missing records for the **NumberOfDependents** column."
   ]
  },
  {
   "cell_type": "code",
   "execution_count": 6,
   "metadata": {},
   "outputs": [
    {
     "name": "stdout",
     "output_type": "stream",
     "text": [
      "There are 150,000 total records in the dataset.\n",
      "There are 3,924 missing NumberOfDependents values.\n",
      "There are 2.62% of the total records having missing value for NumberOfDependents.\n"
     ]
    }
   ],
   "source": [
    "#Count the number of missing records\n",
    "missing = credit_data['NumberOfDependents'].isna().sum()\n",
    "\n",
    "#Calculate the percentage\n",
    "percent_missing = missing / total_rows\n",
    "\n",
    "print('There are {:,} total records in the dataset.'.format(total_rows))\n",
    "print('There are {:,} missing NumberOfDependents values.'.format(missing))\n",
    "print('There are {:.2%} of the total records having missing value for NumberOfDependents.'.format(percent_missing))"
   ]
  },
  {
   "cell_type": "markdown",
   "metadata": {},
   "source": [
    "## Section 3: Remove Missing Data\n",
    "Now that you have identified where data are missing, there are several techniques you can use to handle the missing values.\n",
    "\n",
    "This section discusses the simplest option: removing the missing values from your dataset.  One way to do this is to exclude the column with missing values from your dataset.  Another is to delete just the rows with missing values but to keep the column as a whole."
   ]
  },
  {
   "cell_type": "markdown",
   "metadata": {},
   "source": [
    "### Delete Rows with Missing Data\n",
    "If there are relatively few records with missing data, it may make sense to simply exclude those records from your analysis."
   ]
  },
  {
   "cell_type": "code",
   "execution_count": 7,
   "metadata": {},
   "outputs": [
    {
     "name": "stdout",
     "output_type": "stream",
     "text": [
      "There are 146,076 total records in the dataset with no missing NumberOfDependents.\n",
      "There are 0 records in the dataset with missing NumberOfDependents.\n"
     ]
    }
   ],
   "source": [
    "#Create a new dataset with no missing NumberOfDependents values\n",
    "clean_dependents = credit_data[~credit_data['NumberOfDependents'].isna()]\n",
    "\n",
    "print('There are {:,} total records in the dataset with no missing NumberOfDependents.'.format(clean_dependents.shape[0]))\n",
    "print('There are {:,} records in the dataset with missing NumberOfDependents.'.format(clean_dependents['NumberOfDependents'].isna().sum()))"
   ]
  },
  {
   "cell_type": "markdown",
   "metadata": {},
   "source": [
    "Now it's your turn.  Create a dataset with no missing records for **MonthlyIncome** by removing the rows with missing values."
   ]
  },
  {
   "cell_type": "code",
   "execution_count": 8,
   "metadata": {},
   "outputs": [
    {
     "name": "stdout",
     "output_type": "stream",
     "text": [
      "There are 120,269 total records in the dataset with no missing MonthlyIncome.\n",
      "There are 0 records in the dataset with missing MonthlyIncome.\n"
     ]
    }
   ],
   "source": [
    "#Create a new dataset with no missing MonthlyIncome values\n",
    "clean_income = credit_data[~credit_data['MonthlyIncome'].isna()]\n",
    "\n",
    "print('There are {:,} total records in the dataset with no missing MonthlyIncome.'.format(clean_income.shape[0]))\n",
    "print('There are {:,} records in the dataset with missing MonthlyIncome.'.format(clean_income['MonthlyIncome'].isna().sum()))"
   ]
  },
  {
   "cell_type": "markdown",
   "metadata": {},
   "source": [
    "While deleting missing data might be expedient, it is not always the best solution.  This is because when you delete records, you may end up throwing away a lot of useful data in other columns due to the missing values.  When you delete a whole column from the data, you may end up throwing away a valuable predictor (for example, monthly income is likely a strong predictor on credit defaults)."
   ]
  },
  {
   "cell_type": "markdown",
   "metadata": {},
   "source": [
    "## Section 4: Impute Missing Data\n",
    "As an alternative to deleting the missing data, you can instead replace the missing values with [imputed](https://en.wikipedia.org/wiki/Imputation_(statistics)) values.\n",
    "\n",
    "### Technique 1: Use a Default Value\n",
    "The first technique is to use a pre-definied value to replace the missing data.  The default value most commonly used is the mean or average value.  \n",
    "\n",
    "*pandas*  has a *fillna* function, which allows you to easily replace the missing values with a default."
   ]
  },
  {
   "cell_type": "code",
   "execution_count": 9,
   "metadata": {},
   "outputs": [
    {
     "name": "stdout",
     "output_type": "stream",
     "text": [
      "The average monthly income is 6670.22.\n",
      "There are 0 records in the dataset with missing MonthlyIncome.\n"
     ]
    }
   ],
   "source": [
    "#Calculate mean MonthlyIncome\n",
    "avg_income = credit_data['MonthlyIncome'].mean()\n",
    "print('The average monthly income is {:.2f}.'.format(avg_income))\n",
    "\n",
    "#Replace missing values with the average\n",
    "credit_data['CleanMonthlyIncome'] = credit_data['MonthlyIncome'].fillna(avg_income)\n",
    "\n",
    "print('There are {:,} records in the dataset with missing MonthlyIncome.'.format(credit_data['CleanMonthlyIncome'].isna().sum()))"
   ]
  },
  {
   "cell_type": "markdown",
   "metadata": {},
   "source": [
    "Since the **NumberOfDependents** column is categorical rather than numeric, you should use the mode - or most frequent - value, rather than the average value as the default value."
   ]
  },
  {
   "cell_type": "code",
   "execution_count": 10,
   "metadata": {},
   "outputs": [
    {
     "name": "stdout",
     "output_type": "stream",
     "text": [
      "The most common number of dependents is 0.\n"
     ]
    }
   ],
   "source": [
    "#Determine most frequent number of dependents\n",
    "dependents_mode = credit_data['NumberOfDependents'].mode()[0]\n",
    "\n",
    "print('The most common number of dependents is {:.0f}.'.format(dependents_mode))"
   ]
  },
  {
   "cell_type": "code",
   "execution_count": 11,
   "metadata": {},
   "outputs": [
    {
     "data": {
      "text/plain": [
       "array([ 2.,  1.,  0., nan,  3.,  4.,  5.,  6.,  8.,  7., 20., 10.,  9.,\n",
       "       13.])"
      ]
     },
     "execution_count": 11,
     "metadata": {},
     "output_type": "execute_result"
    }
   ],
   "source": [
    "check_dependents_mode = credit_data['NumberOfDependents'].unique()\n",
    "check_dependents_mode"
   ]
  },
  {
   "cell_type": "markdown",
   "metadata": {},
   "source": [
    "Use the *fillna* function to replace the missing values in the **NumberOfDependents** columns.  Save these new values into a new column in the credit_data dataframe."
   ]
  },
  {
   "cell_type": "code",
   "execution_count": 12,
   "metadata": {},
   "outputs": [
    {
     "name": "stdout",
     "output_type": "stream",
     "text": [
      "There are 0 records in the dataset with missing NumberOfDependents.\n"
     ]
    }
   ],
   "source": [
    "#Replace missing values with the mode\n",
    "credit_data['CleanNumberOfDependents'] = credit_data['NumberOfDependents'].fillna(dependents_mode)\n",
    "print('There are {:,} records in the dataset with missing NumberOfDependents.'.format(credit_data['CleanNumberOfDependents'].isna().sum()))"
   ]
  },
  {
   "cell_type": "markdown",
   "metadata": {},
   "source": [
    "### Technique 2: Random Sampling\n",
    "While using a default value is a simple solution, it doesn't always produce the most realistic outcome.  \n",
    "\n",
    "For categorical variables, another option is to sample from the distribution of possible values rather than using the most common value for all missing values.  The sampled values can follow any distribution you choose, such as uniform (equally likely to pick any of the possible values), Poisson or using the weights of the actual (non-missing) values in the dataset."
   ]
  },
  {
   "cell_type": "code",
   "execution_count": 13,
   "metadata": {},
   "outputs": [
    {
     "data": {
      "text/html": [
       "<div>\n",
       "<style scoped>\n",
       "    .dataframe tbody tr th:only-of-type {\n",
       "        vertical-align: middle;\n",
       "    }\n",
       "\n",
       "    .dataframe tbody tr th {\n",
       "        vertical-align: top;\n",
       "    }\n",
       "\n",
       "    .dataframe thead th {\n",
       "        text-align: right;\n",
       "    }\n",
       "</style>\n",
       "<table border=\"1\" class=\"dataframe\">\n",
       "  <thead>\n",
       "    <tr style=\"text-align: right;\">\n",
       "      <th></th>\n",
       "      <th>NumberOfDependents</th>\n",
       "      <th>Percentage</th>\n",
       "    </tr>\n",
       "  </thead>\n",
       "  <tbody>\n",
       "    <tr>\n",
       "      <th>0.0</th>\n",
       "      <td>86902</td>\n",
       "      <td>0.594909</td>\n",
       "    </tr>\n",
       "    <tr>\n",
       "      <th>1.0</th>\n",
       "      <td>26316</td>\n",
       "      <td>0.180153</td>\n",
       "    </tr>\n",
       "    <tr>\n",
       "      <th>2.0</th>\n",
       "      <td>19522</td>\n",
       "      <td>0.133643</td>\n",
       "    </tr>\n",
       "    <tr>\n",
       "      <th>3.0</th>\n",
       "      <td>9483</td>\n",
       "      <td>0.064918</td>\n",
       "    </tr>\n",
       "    <tr>\n",
       "      <th>4.0</th>\n",
       "      <td>2862</td>\n",
       "      <td>0.019593</td>\n",
       "    </tr>\n",
       "    <tr>\n",
       "      <th>5.0</th>\n",
       "      <td>746</td>\n",
       "      <td>0.005107</td>\n",
       "    </tr>\n",
       "    <tr>\n",
       "      <th>6.0</th>\n",
       "      <td>158</td>\n",
       "      <td>0.001082</td>\n",
       "    </tr>\n",
       "    <tr>\n",
       "      <th>7.0</th>\n",
       "      <td>51</td>\n",
       "      <td>0.000349</td>\n",
       "    </tr>\n",
       "    <tr>\n",
       "      <th>8.0</th>\n",
       "      <td>24</td>\n",
       "      <td>0.000164</td>\n",
       "    </tr>\n",
       "    <tr>\n",
       "      <th>9.0</th>\n",
       "      <td>5</td>\n",
       "      <td>0.000034</td>\n",
       "    </tr>\n",
       "    <tr>\n",
       "      <th>10.0</th>\n",
       "      <td>5</td>\n",
       "      <td>0.000034</td>\n",
       "    </tr>\n",
       "    <tr>\n",
       "      <th>13.0</th>\n",
       "      <td>1</td>\n",
       "      <td>0.000007</td>\n",
       "    </tr>\n",
       "    <tr>\n",
       "      <th>20.0</th>\n",
       "      <td>1</td>\n",
       "      <td>0.000007</td>\n",
       "    </tr>\n",
       "  </tbody>\n",
       "</table>\n",
       "</div>"
      ],
      "text/plain": [
       "      NumberOfDependents  Percentage\n",
       "0.0                86902    0.594909\n",
       "1.0                26316    0.180153\n",
       "2.0                19522    0.133643\n",
       "3.0                 9483    0.064918\n",
       "4.0                 2862    0.019593\n",
       "5.0                  746    0.005107\n",
       "6.0                  158    0.001082\n",
       "7.0                   51    0.000349\n",
       "8.0                   24    0.000164\n",
       "9.0                    5    0.000034\n",
       "10.0                   5    0.000034\n",
       "13.0                   1    0.000007\n",
       "20.0                   1    0.000007"
      ]
     },
     "execution_count": 13,
     "metadata": {},
     "output_type": "execute_result"
    }
   ],
   "source": [
    "#Get distribution for NumberOfDependents\n",
    "dependents = pd.DataFrame(credit_data['NumberOfDependents'].value_counts())\n",
    "dependents['Percentage'] = dependents.apply(lambda x: x/x.sum())\n",
    "dependents"
   ]
  },
  {
   "cell_type": "code",
   "execution_count": 14,
   "metadata": {},
   "outputs": [],
   "source": [
    "#Import the numpy package\n",
    "import numpy as np\n",
    "\n",
    "#Sample from the number of dependents based on the distribution\n",
    "credit_data['SampledDependents'] = \\\n",
    "credit_data['NumberOfDependents'].fillna(np.random.choice(dependents.index.values, p=dependents['Percentage']))"
   ]
  },
  {
   "cell_type": "code",
   "execution_count": 15,
   "metadata": {},
   "outputs": [
    {
     "name": "stdout",
     "output_type": "stream",
     "text": [
      "NewCount and NewPercentage columns show the NumberOfDependents distribution after random sampling using the original distribution weights.\n"
     ]
    },
    {
     "data": {
      "text/html": [
       "<div>\n",
       "<style scoped>\n",
       "    .dataframe tbody tr th:only-of-type {\n",
       "        vertical-align: middle;\n",
       "    }\n",
       "\n",
       "    .dataframe tbody tr th {\n",
       "        vertical-align: top;\n",
       "    }\n",
       "\n",
       "    .dataframe thead th {\n",
       "        text-align: right;\n",
       "    }\n",
       "</style>\n",
       "<table border=\"1\" class=\"dataframe\">\n",
       "  <thead>\n",
       "    <tr style=\"text-align: right;\">\n",
       "      <th></th>\n",
       "      <th>NumberOfDependents</th>\n",
       "      <th>Percentage</th>\n",
       "      <th>NewCount</th>\n",
       "      <th>NewPercentage</th>\n",
       "    </tr>\n",
       "  </thead>\n",
       "  <tbody>\n",
       "    <tr>\n",
       "      <th>0.0</th>\n",
       "      <td>86902</td>\n",
       "      <td>0.594909</td>\n",
       "      <td>90826</td>\n",
       "      <td>0.605507</td>\n",
       "    </tr>\n",
       "    <tr>\n",
       "      <th>1.0</th>\n",
       "      <td>26316</td>\n",
       "      <td>0.180153</td>\n",
       "      <td>26316</td>\n",
       "      <td>0.175440</td>\n",
       "    </tr>\n",
       "    <tr>\n",
       "      <th>2.0</th>\n",
       "      <td>19522</td>\n",
       "      <td>0.133643</td>\n",
       "      <td>19522</td>\n",
       "      <td>0.130147</td>\n",
       "    </tr>\n",
       "    <tr>\n",
       "      <th>3.0</th>\n",
       "      <td>9483</td>\n",
       "      <td>0.064918</td>\n",
       "      <td>9483</td>\n",
       "      <td>0.063220</td>\n",
       "    </tr>\n",
       "    <tr>\n",
       "      <th>4.0</th>\n",
       "      <td>2862</td>\n",
       "      <td>0.019593</td>\n",
       "      <td>2862</td>\n",
       "      <td>0.019080</td>\n",
       "    </tr>\n",
       "    <tr>\n",
       "      <th>5.0</th>\n",
       "      <td>746</td>\n",
       "      <td>0.005107</td>\n",
       "      <td>746</td>\n",
       "      <td>0.004973</td>\n",
       "    </tr>\n",
       "    <tr>\n",
       "      <th>6.0</th>\n",
       "      <td>158</td>\n",
       "      <td>0.001082</td>\n",
       "      <td>158</td>\n",
       "      <td>0.001053</td>\n",
       "    </tr>\n",
       "    <tr>\n",
       "      <th>7.0</th>\n",
       "      <td>51</td>\n",
       "      <td>0.000349</td>\n",
       "      <td>51</td>\n",
       "      <td>0.000340</td>\n",
       "    </tr>\n",
       "    <tr>\n",
       "      <th>8.0</th>\n",
       "      <td>24</td>\n",
       "      <td>0.000164</td>\n",
       "      <td>24</td>\n",
       "      <td>0.000160</td>\n",
       "    </tr>\n",
       "    <tr>\n",
       "      <th>9.0</th>\n",
       "      <td>5</td>\n",
       "      <td>0.000034</td>\n",
       "      <td>5</td>\n",
       "      <td>0.000033</td>\n",
       "    </tr>\n",
       "    <tr>\n",
       "      <th>10.0</th>\n",
       "      <td>5</td>\n",
       "      <td>0.000034</td>\n",
       "      <td>5</td>\n",
       "      <td>0.000033</td>\n",
       "    </tr>\n",
       "    <tr>\n",
       "      <th>13.0</th>\n",
       "      <td>1</td>\n",
       "      <td>0.000007</td>\n",
       "      <td>1</td>\n",
       "      <td>0.000007</td>\n",
       "    </tr>\n",
       "    <tr>\n",
       "      <th>20.0</th>\n",
       "      <td>1</td>\n",
       "      <td>0.000007</td>\n",
       "      <td>1</td>\n",
       "      <td>0.000007</td>\n",
       "    </tr>\n",
       "  </tbody>\n",
       "</table>\n",
       "</div>"
      ],
      "text/plain": [
       "      NumberOfDependents  Percentage  NewCount  NewPercentage\n",
       "0.0                86902    0.594909     90826       0.605507\n",
       "1.0                26316    0.180153     26316       0.175440\n",
       "2.0                19522    0.133643     19522       0.130147\n",
       "3.0                 9483    0.064918      9483       0.063220\n",
       "4.0                 2862    0.019593      2862       0.019080\n",
       "5.0                  746    0.005107       746       0.004973\n",
       "6.0                  158    0.001082       158       0.001053\n",
       "7.0                   51    0.000349        51       0.000340\n",
       "8.0                   24    0.000164        24       0.000160\n",
       "9.0                    5    0.000034         5       0.000033\n",
       "10.0                   5    0.000034         5       0.000033\n",
       "13.0                   1    0.000007         1       0.000007\n",
       "20.0                   1    0.000007         1       0.000007"
      ]
     },
     "execution_count": 15,
     "metadata": {},
     "output_type": "execute_result"
    }
   ],
   "source": [
    "#Show counts/percentages with and without random sampling\n",
    "dependents['NewCount'] = credit_data['SampledDependents'].value_counts()\n",
    "dependents['NewPercentage'] = dependents['NewCount']/dependents['NewCount'].sum()\n",
    "\n",
    "print('NewCount and NewPercentage columns show the NumberOfDependents distribution after random sampling using the original distribution weights.')\n",
    "dependents"
   ]
  },
  {
   "cell_type": "markdown",
   "metadata": {},
   "source": [
    "Now it's your turn.  Use the *random.choice* function from the [numpy](https://numpy.org/doc/stable/user/index.html) package to fill in the missing values using a uniform distribution.  \n",
    "\n",
    "Hint: Check the documentation [here](https://numpy.org/doc/stable/reference/random/generated/numpy.random.choice.html) to see what happens when no *p* value is given."
   ]
  },
  {
   "cell_type": "code",
   "execution_count": 16,
   "metadata": {},
   "outputs": [],
   "source": [
    "#Sample from the number of dependents using a uniform distribution\n",
    "credit_data['SampledDependents'] = \\\n",
    "credit_data['NumberOfDependents'].fillna(np.random.choice(dependents.index.values))"
   ]
  },
  {
   "cell_type": "code",
   "execution_count": 17,
   "metadata": {},
   "outputs": [
    {
     "name": "stdout",
     "output_type": "stream",
     "text": [
      "NewCount and NewPercentage columns show the NumberOfDependents distribution after random sampling using the original distribution weights.\n"
     ]
    },
    {
     "data": {
      "text/html": [
       "<div>\n",
       "<style scoped>\n",
       "    .dataframe tbody tr th:only-of-type {\n",
       "        vertical-align: middle;\n",
       "    }\n",
       "\n",
       "    .dataframe tbody tr th {\n",
       "        vertical-align: top;\n",
       "    }\n",
       "\n",
       "    .dataframe thead th {\n",
       "        text-align: right;\n",
       "    }\n",
       "</style>\n",
       "<table border=\"1\" class=\"dataframe\">\n",
       "  <thead>\n",
       "    <tr style=\"text-align: right;\">\n",
       "      <th></th>\n",
       "      <th>NumberOfDependents</th>\n",
       "      <th>Percentage</th>\n",
       "      <th>NewCount</th>\n",
       "      <th>NewPercentage</th>\n",
       "    </tr>\n",
       "  </thead>\n",
       "  <tbody>\n",
       "    <tr>\n",
       "      <th>0.0</th>\n",
       "      <td>86902</td>\n",
       "      <td>0.594909</td>\n",
       "      <td>86902</td>\n",
       "      <td>0.579347</td>\n",
       "    </tr>\n",
       "    <tr>\n",
       "      <th>1.0</th>\n",
       "      <td>26316</td>\n",
       "      <td>0.180153</td>\n",
       "      <td>26316</td>\n",
       "      <td>0.175440</td>\n",
       "    </tr>\n",
       "    <tr>\n",
       "      <th>2.0</th>\n",
       "      <td>19522</td>\n",
       "      <td>0.133643</td>\n",
       "      <td>19522</td>\n",
       "      <td>0.130147</td>\n",
       "    </tr>\n",
       "    <tr>\n",
       "      <th>3.0</th>\n",
       "      <td>9483</td>\n",
       "      <td>0.064918</td>\n",
       "      <td>9483</td>\n",
       "      <td>0.063220</td>\n",
       "    </tr>\n",
       "    <tr>\n",
       "      <th>4.0</th>\n",
       "      <td>2862</td>\n",
       "      <td>0.019593</td>\n",
       "      <td>2862</td>\n",
       "      <td>0.019080</td>\n",
       "    </tr>\n",
       "    <tr>\n",
       "      <th>5.0</th>\n",
       "      <td>746</td>\n",
       "      <td>0.005107</td>\n",
       "      <td>746</td>\n",
       "      <td>0.004973</td>\n",
       "    </tr>\n",
       "    <tr>\n",
       "      <th>6.0</th>\n",
       "      <td>158</td>\n",
       "      <td>0.001082</td>\n",
       "      <td>4082</td>\n",
       "      <td>0.027213</td>\n",
       "    </tr>\n",
       "    <tr>\n",
       "      <th>7.0</th>\n",
       "      <td>51</td>\n",
       "      <td>0.000349</td>\n",
       "      <td>51</td>\n",
       "      <td>0.000340</td>\n",
       "    </tr>\n",
       "    <tr>\n",
       "      <th>8.0</th>\n",
       "      <td>24</td>\n",
       "      <td>0.000164</td>\n",
       "      <td>24</td>\n",
       "      <td>0.000160</td>\n",
       "    </tr>\n",
       "    <tr>\n",
       "      <th>9.0</th>\n",
       "      <td>5</td>\n",
       "      <td>0.000034</td>\n",
       "      <td>5</td>\n",
       "      <td>0.000033</td>\n",
       "    </tr>\n",
       "    <tr>\n",
       "      <th>10.0</th>\n",
       "      <td>5</td>\n",
       "      <td>0.000034</td>\n",
       "      <td>5</td>\n",
       "      <td>0.000033</td>\n",
       "    </tr>\n",
       "    <tr>\n",
       "      <th>13.0</th>\n",
       "      <td>1</td>\n",
       "      <td>0.000007</td>\n",
       "      <td>1</td>\n",
       "      <td>0.000007</td>\n",
       "    </tr>\n",
       "    <tr>\n",
       "      <th>20.0</th>\n",
       "      <td>1</td>\n",
       "      <td>0.000007</td>\n",
       "      <td>1</td>\n",
       "      <td>0.000007</td>\n",
       "    </tr>\n",
       "  </tbody>\n",
       "</table>\n",
       "</div>"
      ],
      "text/plain": [
       "      NumberOfDependents  Percentage  NewCount  NewPercentage\n",
       "0.0                86902    0.594909     86902       0.579347\n",
       "1.0                26316    0.180153     26316       0.175440\n",
       "2.0                19522    0.133643     19522       0.130147\n",
       "3.0                 9483    0.064918      9483       0.063220\n",
       "4.0                 2862    0.019593      2862       0.019080\n",
       "5.0                  746    0.005107       746       0.004973\n",
       "6.0                  158    0.001082      4082       0.027213\n",
       "7.0                   51    0.000349        51       0.000340\n",
       "8.0                   24    0.000164        24       0.000160\n",
       "9.0                    5    0.000034         5       0.000033\n",
       "10.0                   5    0.000034         5       0.000033\n",
       "13.0                   1    0.000007         1       0.000007\n",
       "20.0                   1    0.000007         1       0.000007"
      ]
     },
     "execution_count": 17,
     "metadata": {},
     "output_type": "execute_result"
    }
   ],
   "source": [
    "#Show counts/percentages with and without random sampling\n",
    "dependents['NewCount'] = credit_data['SampledDependents'].value_counts()\n",
    "dependents['NewPercentage'] = dependents['NewCount']/dependents['NewCount'].sum()\n",
    "\n",
    "print('NewCount and NewPercentage columns show the NumberOfDependents distribution after random sampling using the original distribution weights.')\n",
    "dependents"
   ]
  },
  {
   "cell_type": "markdown",
   "metadata": {},
   "source": [
    "### Technique 3: Use a Prediction Model\n",
    "The final technique you will use in this lab is to impute the missing data using a machine learning model.  You can do this by using the other columns, such as **age** or **DebtRatio** as predictors to determine the missing variable, in this case, **MonthlyIncome**.  \n",
    "\n",
    "You will be using the [scikit-learn](https://scikit-learn.org/stable/) package to build the prediction model.  \n",
    "\n",
    "In order to test how well the imputation model predicts **MonthlyIncome**, you should first split your dataset into two parts - training and test - using the [train_test_split](https://scikit-learn.org/stable/modules/generated/sklearn.model_selection.train_test_split.html) function. Then you will build a regression model using the [LinearRegression](https://scikit-learn.org/stable/modules/generated/sklearn.linear_model.LinearRegression.html) function"
   ]
  },
  {
   "cell_type": "code",
   "execution_count": 18,
   "metadata": {},
   "outputs": [
    {
     "name": "stdout",
     "output_type": "stream",
     "text": [
      "The training dataset has 96,215 records.\n",
      "The test dataset has 24,054 records.\n"
     ]
    }
   ],
   "source": [
    "#Get new dataset where MonthlyIncome is not missing (to be used to build your model)\n",
    "prediction_data = credit_data[~credit_data['MonthlyIncome'].isna()]\n",
    "\n",
    "#Import the train/test split function from scikit-learn\n",
    "from sklearn.model_selection import train_test_split\n",
    "\n",
    "#Split into training/test datasets\n",
    "prediction_train, prediction_test = train_test_split(prediction_data, train_size=0.8)\n",
    "\n",
    "print('The training dataset has {:,} records.'.format(prediction_train.shape[0]))\n",
    "print('The test dataset has {:,} records.'.format(prediction_test.shape[0]))"
   ]
  },
  {
   "cell_type": "code",
   "execution_count": 19,
   "metadata": {},
   "outputs": [
    {
     "name": "stdout",
     "output_type": "stream",
     "text": [
      "The mean squared error on the training dataset is 112,100,544.\n",
      "The mean squared error on the test dataset is 563,163,766.\n"
     ]
    }
   ],
   "source": [
    "#Create mask of columns to include as features in the model\n",
    "features = ~prediction_train.columns.isin(['MonthlyIncome','CleanMonthlyIncome','NumberOfDependents'])\n",
    "feature_columns = prediction_data.columns[features]\n",
    "\n",
    "#Import linear regression model function from scikit-learn\n",
    "from sklearn.linear_model import LinearRegression\n",
    "from sklearn.metrics import mean_squared_error\n",
    "\n",
    "#Create linear regression model\n",
    "model = LinearRegression()\n",
    "#Fit linear regression model\n",
    "model.fit(prediction_train[feature_columns], prediction_train['MonthlyIncome'])\n",
    "\n",
    "#Predict monthly income using the model\n",
    "train_predict = model.predict(prediction_train[feature_columns])\n",
    "test_predict = model.predict(prediction_test[feature_columns])\n",
    "\n",
    "#Evaluate model predictions\n",
    "mse_train = mean_squared_error(prediction_train['MonthlyIncome'], train_predict)\n",
    "mse_test = mean_squared_error(prediction_test['MonthlyIncome'], test_predict)\n",
    "\n",
    "print('The mean squared error on the training dataset is {:,.0f}.'.format(mse_train))\n",
    "print('The mean squared error on the test dataset is {:,.0f}.'.format(mse_test))"
   ]
  },
  {
   "cell_type": "markdown",
   "metadata": {},
   "source": [
    "For this example, the mean squared error for both the training and test datasets are huge, which means that the other columns are unfortunately *not* good predictors of the income.  Therefore, using this method would not be recommended for this dataset.  Instead, it is probably best to stick with technique 2 (replacing the missing values with the mean)."
   ]
  },
  {
   "cell_type": "code",
   "execution_count": null,
   "metadata": {},
   "outputs": [],
   "source": []
  }
 ],
 "metadata": {
  "kernelspec": {
   "display_name": "Python 3",
   "language": "python",
   "name": "python3"
  },
  "language_info": {
   "codemirror_mode": {
    "name": "ipython",
    "version": 3
   },
   "file_extension": ".py",
   "mimetype": "text/x-python",
   "name": "python",
   "nbconvert_exporter": "python",
   "pygments_lexer": "ipython3",
   "version": "3.8.5"
  }
 },
 "nbformat": 4,
 "nbformat_minor": 4
}
